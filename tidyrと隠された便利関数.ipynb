{
  "nbformat": 4,
  "nbformat_minor": 0,
  "metadata": {
    "colab": {
      "name": "tidyrと隠された便利関数.ipynb",
      "provenance": [],
      "collapsed_sections": [
        "mktWSbA9CKdl",
        "FqjNtuuADUNF"
      ],
      "toc_visible": true,
      "authorship_tag": "ABX9TyM69AI6xuqmnfnXTO/K0JPY",
      "include_colab_link": true
    },
    "kernelspec": {
      "name": "ir",
      "display_name": "R"
    }
  },
  "cells": [
    {
      "cell_type": "markdown",
      "metadata": {
        "id": "view-in-github",
        "colab_type": "text"
      },
      "source": [
        "<a href=\"https://colab.research.google.com/github/k-metrics/DAWS2020/blob/master/tidyr%E3%81%A8%E9%9A%A0%E3%81%95%E3%82%8C%E3%81%9F%E4%BE%BF%E5%88%A9%E9%96%A2%E6%95%B0.ipynb\" target=\"_parent\"><img src=\"https://colab.research.google.com/assets/colab-badge.svg\" alt=\"Open In Colab\"/></a>"
      ]
    },
    {
      "cell_type": "markdown",
      "metadata": {
        "id": "ikPj3iBg7JdM"
      },
      "source": [
        "# tidyrと隠された便利関数\n",
        "---\n",
        "\n"
      ]
    },
    {
      "cell_type": "code",
      "metadata": {
        "id": "t8wjQg-i7tlv"
      },
      "source": [
        "library(tidyverse)"
      ],
      "execution_count": null,
      "outputs": []
    },
    {
      "cell_type": "markdown",
      "metadata": {
        "id": "eQTNAj537hvH"
      },
      "source": [
        "## 欠損と欠落\n",
        "分析対象とするデータの一部が失われていることはよくあり、逆に綺麗にそろっている方が珍しいと言えます。\n",
        "データが失われているというのは\n",
        "\n",
        "* 観測値の一部がない（セルに抜けがある）\n",
        "* 観測記録の一部がない（行に抜けがある）\n",
        "\n",
        "という状態であり、ここでは前者を「欠損」、後者を「欠落」と便宜的に呼びます。他で、この呼び方で通じるかは不明（たぶん、通じない）。  \n",
        "\n",
        "　  \n",
        "このセッションでは、このような欠損や欠落を処理する場合に非常に便利だけどあまり紹介されない`tidyr`パッケージの関数を取り上げます。"
      ]
    },
    {
      "cell_type": "markdown",
      "metadata": {
        "id": "D1YzeuAl8t-2"
      },
      "source": [
        "### 欠損の例\n",
        "**欠損**が含まれているデータセットとして有名なのが、ニューヨークの大気観測データをまとめたデータセット`airquality`です。1973年の5月1日から9月30日までの連続した153日間の観測データが収められており、日付の抜けはありません。  \n",
        "実行するとデータが表示が長くなるので最初と最後の数行のみを表示。"
      ]
    },
    {
      "cell_type": "code",
      "metadata": {
        "id": "cmhwruzu8SoB"
      },
      "source": [
        "airquality %>% head()\n",
        "airquality %>% tail()"
      ],
      "execution_count": null,
      "outputs": []
    },
    {
      "cell_type": "markdown",
      "metadata": {
        "id": "glNDkIP18MlZ"
      },
      "source": [
        "### 欠落の例\n",
        "欠落が含まれているデータ（セット）としては新型コロナウィルス検査結果のデータがあげられます。陽性確定者がゼロの日はレコード（インスタンス）が追加されないので、集計してもゼロの日はレコード（インスタンス）がありません。  "
      ]
    },
    {
      "cell_type": "code",
      "metadata": {
        "id": "eRZd0mb381-X"
      },
      "source": [
        "df <- \"https://gist.githubusercontent.com/k-metrics/c963351ca993f84acde7bba38139f046/raw/8d390198a6d9bd9a4c3e5050d86856638d872949/covid19.csv\" %>% \n",
        "  readr::read_csv() %>%\n",
        "  dplyr::mutate(n = as.integer(n))\n",
        "df"
      ],
      "execution_count": null,
      "outputs": []
    },
    {
      "cell_type": "markdown",
      "metadata": {
        "id": "nOQBD489_aIW"
      },
      "source": [
        "このようなデータ（セット）は読み手が、「ゼロだから記録として出てこない」と読み取ってくれるだろうという暗黙の了解の元で作成されています。  \n",
        "なので、ここでは、このような欠落を「暗黙的な欠落」と呼びます。他で…（略）。"
      ]
    },
    {
      "cell_type": "markdown",
      "metadata": {
        "id": "Pf7Y7nrE_7fB"
      },
      "source": [
        "### 暗黙的な欠落の問題点\n",
        "では、このような暗黙的な欠落はデータ分析において、どのような問題を引き起こすのか見てみます。  \n",
        "上記のデータを用いて折線グラフを描いてみましょう。"
      ]
    },
    {
      "cell_type": "code",
      "metadata": {
        "id": "KQ0_ROJMArSx"
      },
      "source": [
        "df %>% \n",
        "  ggplot2::ggplot(ggplot2::aes(x = date, y = n)) + \n",
        "    ggplot2::geom_line()"
      ],
      "execution_count": null,
      "outputs": []
    },
    {
      "cell_type": "markdown",
      "metadata": {
        "id": "7Ury1gHenbbl"
      },
      "source": [
        ""
      ]
    },
    {
      "cell_type": "markdown",
      "metadata": {
        "id": "2XGEqNPzBHWA"
      },
      "source": [
        "### 【質問】\n",
        "描いた折線グラフにどのような問題があるか考えてください。\n",
        "\n",
        "■挙手または指名で回答■"
      ]
    },
    {
      "cell_type": "markdown",
      "metadata": {
        "id": "J6spGNPoAjXr"
      },
      "source": [
        "### 【質問】\n",
        "新型コロナウィルスに関するデータセットが持っている暗示的な欠落を明示的な欠落に変換する手順を考えて、その手順を説明してください（Rの関数名などを出す必要はありません）。  \n",
        "「明示的な欠落」とは、データが欠落していることが分かるようにすることを意味しています。  \n",
        "　  \n",
        "※ 言い換えると「正しいグラフが描けるようにするには、どうしたらいいか」です。"
      ]
    },
    {
      "cell_type": "markdown",
      "metadata": {
        "id": "1dIFwQUJFOBR"
      },
      "source": [
        "### 【回答】\n",
        "■挙手または指名で回答■"
      ]
    },
    {
      "cell_type": "markdown",
      "metadata": {
        "id": "mktWSbA9CKdl"
      },
      "source": [
        "### 【処理例】\n",
        "実際に以下のコードを実行して、どのように変換されるかを確認してください。"
      ]
    },
    {
      "cell_type": "code",
      "metadata": {
        "id": "ncHYjxUXCEKO"
      },
      "source": [
        "cal_data <- data.frame(date = seq.Date(from = lubridate::as_date(\"2020/1/15\"),\n",
        "                                       to = lubridate::as_date(\"2020/2/4\"),\n",
        "                                       by = \"day\"))\n",
        "cal_data %>% head()\n",
        "\n",
        "dplyr::left_join(cal_data, df, by = c(\"date\")) %>% \n",
        "      dplyr::mutate(n = dplyr::if_else(is.na(n), 0L, n))"
      ],
      "execution_count": null,
      "outputs": []
    },
    {
      "cell_type": "markdown",
      "metadata": {
        "id": "FqjNtuuADUNF"
      },
      "source": [
        "## 欠落の変換\n",
        "前述の処理を簡単にしてくれるのが`tidyr::complete`関数です。とりあえず実行してみましょう。"
      ]
    },
    {
      "cell_type": "code",
      "metadata": {
        "id": "Q87uyQ3yDpCw"
      },
      "source": [
        "df %>% \n",
        "  tidyr::complete(date = seq.Date(min(date), max(date), by = \"day\"),\n",
        "                  fill = list(n = 0L))"
      ],
      "execution_count": null,
      "outputs": []
    },
    {
      "cell_type": "markdown",
      "metadata": {
        "id": "yyIH_0KzD5ES"
      },
      "source": [
        "明示的な欠落に変換したデータでグラフを描いて、最初のグラフと比較してみてください。"
      ]
    },
    {
      "cell_type": "code",
      "metadata": {
        "id": "06l0jjzaD_UU"
      },
      "source": [
        "df %>% \n",
        "  tidyr::complete(date = seq.Date(min(date), max(date), by = \"day\"),\n",
        "                  fill = list(n = 0L)) %>% \n",
        "  ggplot2::ggplot(ggplot2::aes(x = date, y = n)) + \n",
        "    ggplot2::geom_line()"
      ],
      "execution_count": null,
      "outputs": []
    },
    {
      "cell_type": "markdown",
      "metadata": {
        "id": "fukWXPkKEW3r"
      },
      "source": [
        "### 組み合わせデータの変換\n",
        "先程の例は比較的単純な変換処理でしたが、複数の変量の組み合わせを変換（補完）するにはどのようにすれば良いでしょうか？  \n",
        "以下のデータで考えてみましょう。"
      ]
    },
    {
      "cell_type": "code",
      "metadata": {
        "id": "mf031JzGEyaa"
      },
      "source": [
        "x <- data.frame(group = c(1:2, 1), item_id = c(1:2, 2),\n",
        "                item_name = c(\"a\", \"b\", \"b\"),\n",
        "                value1 = 1:3, value2 = 4:6)\n",
        "x"
      ],
      "execution_count": null,
      "outputs": []
    },
    {
      "cell_type": "markdown",
      "metadata": {
        "id": "sSoGLzL5E-3B"
      },
      "source": [
        "### 【質問】\n",
        "本来であれば`group`と`item_id`の全ての組み合わせ（4通りの組み合わせ）があるべきデータです。このデータの暗示的な欠落を明示的な欠落に変換する手順を考えて、その手順を説明してください（Rの関数名などを出す必要はありません）。\n"
      ]
    },
    {
      "cell_type": "markdown",
      "metadata": {
        "id": "EZVqfc7BFBpq"
      },
      "source": [
        "### 【回答】\n",
        "■挙手または指名で回答■"
      ]
    },
    {
      "cell_type": "markdown",
      "metadata": {
        "id": "WV-89As2F0mb"
      },
      "source": [
        "### 【処理例】\n",
        "実際に以下のコードを実行して、どのように変換されるかを確認してください。"
      ]
    },
    {
      "cell_type": "code",
      "metadata": {
        "id": "E9T3iUtHF878"
      },
      "source": [
        "x %>%\n",
        "   with(expand.grid(group = unique(group), item_id = unique(item_id))) %>% \n",
        "   dplyr::left_join(x)"
      ],
      "execution_count": null,
      "outputs": []
    },
    {
      "cell_type": "markdown",
      "metadata": {
        "id": "9KWKLpMuGKgk"
      },
      "source": [
        "### 【Tips】"
      ]
    },
    {
      "cell_type": "markdown",
      "metadata": {
        "id": "E4698JSjHw8L"
      },
      "source": [
        "データを良く見ると`item_id`と`item_name`は連動しているようですので、合わせて変換（補完）したいです。このような場合に`tidyr::nesting`関数を用いてパラメータを指定します。"
      ]
    },
    {
      "cell_type": "code",
      "metadata": {
        "id": "A46gD5ZhGsaU"
      },
      "source": [
        "x %>% \n",
        "  tidyr::complete(group, tidyr::nesting(item_id, item_name))"
      ],
      "execution_count": null,
      "outputs": []
    },
    {
      "cell_type": "markdown",
      "metadata": {
        "id": "NkoHLinsGVJj"
      },
      "source": [
        "## 欠損値の変換\n",
        "新型コロナウィルスデータのように欠損値（`NA`）が0（ゼロ）と等価であるような場合には、欠損値を一括して変換したいものです。  \n",
        "　  \n",
        "このような場合は`tidyr::replace_na`関数を使うと一括変換が可能です。"
      ]
    },
    {
      "cell_type": "code",
      "metadata": {
        "id": "wLOY46gcI3X7"
      },
      "source": [
        "data.frame(x = c(1, 2, NA), y = c(\"a\", NA, \"b\")) %>% \n",
        "   print() %>% \n",
        "   tidyr::replace_na(list(x = 0, y = \"unknown\"))"
      ],
      "execution_count": null,
      "outputs": []
    },
    {
      "cell_type": "markdown",
      "metadata": {
        "id": "dtZVoJMNwYei"
      },
      "source": [
        "### 規則的な欠損を変換する\n",
        "Excelで作成されたようなデータではセル結合の弊害から規則的に欠損していることがあります。これも一種の暗黙的な了解の元で欠損させているのですが、処理的に困ることがあります。  \n",
        "例えば、総務省が公開している「都道府県コード及び市町村コード」改正一覧表は規則的な欠損が存在しています。"
      ]
    },
    {
      "cell_type": "code",
      "metadata": {
        "id": "DeSwwtmz4iJw"
      },
      "source": [
        "# パスから直接読み込むことができない場合は、一旦、ダウンロードしてから読み込む\n",
        "path <- \"https://www.soumu.go.jp/main_content/000562731.xls\"\n",
        "file <- paste0(\"./\", basename(path))\n",
        "path %>%\n",
        "  download.file(file)\n",
        "\n",
        "# 今回は列を最小限に絞っておく\n",
        "city_code <- file %>% \n",
        "  readxl::read_excel(col_names = FALSE, skip = 4) %>%\n",
        "  dplyr::select(5:7, 11:12, 14) %>%\n",
        "  dplyr::rename(`都道府県名` = ...5, `旧コード` = ...6, `旧市町村名` = ...7, `コード` = ...11, `市町村名` = ...12, `改正事由` = ...14)\n",
        "\n",
        "city_code %>% head(10)"
      ],
      "execution_count": null,
      "outputs": []
    },
    {
      "cell_type": "markdown",
      "metadata": {
        "id": "Chk2psFQ7vTt"
      },
      "source": [
        "都道府県の列は同上の場合、都道府県名が省略されています。データ処理のためには都道府県名の欠損を変換して、正しい都道府県名を設定する必要があります。  \n",
        "このような場合に便利なのが`tdiyr::fill`関数です。"
      ]
    },
    {
      "cell_type": "code",
      "metadata": {
        "id": "wZgy9nhS9Eh2"
      },
      "source": [
        "city_code %>%\n",
        "  tidyr::fill(`都道府県名`) %>% \n",
        "  head(10)"
      ],
      "execution_count": null,
      "outputs": []
    },
    {
      "cell_type": "markdown",
      "metadata": {
        "id": "URS6Jn0k9kw1"
      },
      "source": [
        "ついでに「同左」と「改正事由」の欠損値を変換しておきます。"
      ]
    },
    {
      "cell_type": "code",
      "metadata": {
        "id": "9TYsHXqF9qw0"
      },
      "source": [
        "city_code %>%\n",
        "  tidyr::fill(`都道府県名`) %>% \n",
        "  dplyr::mutate(`コード` = dplyr::if_else(`コード` == \"同左\", `旧コード`, `コード`),\n",
        "                `市町村名` = dplyr::if_else(`市町村名` == \"同左\", `旧市町村名`, `市町村名`)) %>%\n",
        "  dplyr::filter(`市町村名` != \"削除\") %>%\n",
        "  tidyr::replace_na(list(`改正事由` = \"新設\"))"
      ],
      "execution_count": null,
      "outputs": []
    },
    {
      "cell_type": "markdown",
      "metadata": {
        "id": "prle609eIPA5"
      },
      "source": [
        "## 欠損値の削除\n",
        "`NA`を含む行を削除する場合には`tdiyr::drop_na`関数を使います。パラメータの指定方法で結果が変わりますので注意してください。"
      ]
    },
    {
      "cell_type": "code",
      "metadata": {
        "id": "MzXZro8aJ_F7"
      },
      "source": [
        "airquality %>% head()"
      ],
      "execution_count": null,
      "outputs": []
    },
    {
      "cell_type": "code",
      "metadata": {
        "id": "i4cJXrIzJ1Qm"
      },
      "source": [
        "airquality %>% \n",
        "   tidyr::drop_na() %>%\n",
        "   head()"
      ],
      "execution_count": null,
      "outputs": []
    },
    {
      "cell_type": "code",
      "metadata": {
        "id": "NT6uM5vfKBet"
      },
      "source": [
        "airquality %>% \n",
        "   tidyr::drop_na(Ozone) %>%\n",
        "   head()"
      ],
      "execution_count": null,
      "outputs": []
    },
    {
      "cell_type": "markdown",
      "metadata": {
        "id": "bRLvbpb5KTkv"
      },
      "source": [
        "# その他の便利な関数\n",
        "その他の便利な関数についてはチュートリアルファイルを用意してあります。入手方法や具体的な使い方などは、来月のLT大会の時に紹介します。"
      ]
    },
    {
      "cell_type": "markdown",
      "metadata": {
        "id": "a89jtB8JKt5p"
      },
      "source": [
        "本資料のコードの一部は各関数のヘルプに記載されているサンプルコードを用いています。  \n",
        "\n",
        "---\n",
        "\n",
        "Enjoy!\n",
        "\n",
        "CC 4.0 BY-NC-SA, Sampo Suzuki"
      ]
    }
  ]
}