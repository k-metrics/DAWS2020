{
  "nbformat": 4,
  "nbformat_minor": 0,
  "metadata": {
    "colab": {
      "name": "tidyrと隠された便利関数.ipynb",
      "provenance": [],
      "collapsed_sections": [
        "r8FjYFCZ20wK",
        "mktWSbA9CKdl",
        "WV-89As2F0mb",
        "9KWKLpMuGKgk"
      ],
      "toc_visible": true,
      "authorship_tag": "ABX9TyPd2dHyOX/s/C6/RwtGkrFi",
      "include_colab_link": true
    },
    "kernelspec": {
      "name": "ir",
      "display_name": "R"
    }
  },
  "cells": [
    {
      "cell_type": "markdown",
      "metadata": {
        "id": "view-in-github",
        "colab_type": "text"
      },
      "source": [
        "<a href=\"https://colab.research.google.com/github/k-metrics/DAWS2020/blob/master/tidyr%E3%81%A8%E9%9A%A0%E3%81%95%E3%82%8C%E3%81%9F%E4%BE%BF%E5%88%A9%E9%96%A2%E6%95%B0.ipynb\" target=\"_parent\"><img src=\"https://colab.research.google.com/assets/colab-badge.svg\" alt=\"Open In Colab\"/></a>"
      ]
    },
    {
      "cell_type": "markdown",
      "metadata": {
        "id": "ikPj3iBg7JdM"
      },
      "source": [
        "# tidyrと隠された便利関数\n",
        "---\n",
        "\n"
      ]
    },
    {
      "cell_type": "code",
      "metadata": {
        "id": "t8wjQg-i7tlv"
      },
      "source": [
        "library(tidyverse)"
      ],
      "execution_count": null,
      "outputs": []
    },
    {
      "cell_type": "markdown",
      "metadata": {
        "id": "eQTNAj537hvH"
      },
      "source": [
        "## 欠損と欠落\n",
        "分析対象とするデータの一部が失われていることはよくあります。データが失われているというのは\n",
        "\n",
        "* 観測値の一部がない（セルに抜けがある）\n",
        "* 観測記録の一部がない（行に抜けがある）\n",
        "\n",
        "という状態であり、本セッションでは前者を「欠損」、後者を便宜的に「欠落」と呼びます。  \n",
        "\n",
        "　  \n",
        "本セッションでは、欠損や欠落を処理する場合に非常に有用な`tidyr`パッケージ関数を紹介します。"
      ]
    },
    {
      "cell_type": "markdown",
      "metadata": {
        "id": "D1YzeuAl8t-2"
      },
      "source": [
        "### 欠損の例\n",
        "Rには**欠損**が含まれているサンプルデータセットとして、ニューヨークの大気観測データをまとめた`airquality`データセットがあります。1973年の5月1日から9月30日までの連続した153日間の観測記録が収められています。"
      ]
    },
    {
      "cell_type": "code",
      "metadata": {
        "id": "cmhwruzu8SoB"
      },
      "source": [
        "# 表示させると長いので最初と最後だけ\n",
        "airquality %>% head()\n",
        "airquality %>% tail()"
      ],
      "execution_count": null,
      "outputs": []
    },
    {
      "cell_type": "markdown",
      "metadata": {
        "id": "glNDkIP18MlZ"
      },
      "source": [
        "### 欠落の例\n",
        "[個票データ](https://www.stat.go.jp/koukou/howto/process/proc3_2.html)を集計したデータにはしばしば欠落があります。例えば新型コロナウィルス検査結果データは、陽性確定者がゼロの日は個票が作成されませんので、個票データの集計結果には陽性確定者ゼロの日が現れません。  "
      ]
    },
    {
      "cell_type": "code",
      "metadata": {
        "id": "eRZd0mb381-X"
      },
      "source": [
        "# このデータは公開データを集計したものです\n",
        "df <- \"https://gist.githubusercontent.com/k-metrics/c963351ca993f84acde7bba38139f046/raw/8d390198a6d9bd9a4c3e5050d86856638d872949/covid19.csv\" %>% \n",
        "  readr::read_csv() %>%\n",
        "  dplyr::mutate(n = as.integer(n))\n",
        "df"
      ],
      "execution_count": null,
      "outputs": []
    },
    {
      "cell_type": "markdown",
      "metadata": {
        "id": "nOQBD489_aIW"
      },
      "source": [
        "このようなデータは、受け取る側が「ゼロだから記録として出てこない」と読み取ってくれるだろうという**暗黙の了解**の元で作成されています。本セッションでは、このような欠落を「暗黙的な欠落」と呼びます。"
      ]
    },
    {
      "cell_type": "markdown",
      "metadata": {
        "id": "Pf7Y7nrE_7fB"
      },
      "source": [
        "### 暗黙的な欠落の問題点\n",
        "暗黙的な欠落はデータ分析において問題を引き起こす場合があります。上記の新型コロナウィルス検査結果の集計データを用いて折線グラフを描いてみましょう。"
      ]
    },
    {
      "cell_type": "code",
      "metadata": {
        "id": "KQ0_ROJMArSx"
      },
      "source": [
        "# 横軸は日付、縦軸は陽性確定者数です\n",
        "df %>% \n",
        "  ggplot2::ggplot(ggplot2::aes(x = date, y = n)) + \n",
        "    ggplot2::geom_line()"
      ],
      "execution_count": null,
      "outputs": []
    },
    {
      "cell_type": "markdown",
      "metadata": {
        "id": "2XGEqNPzBHWA"
      },
      "source": [
        "### 【質問1】\n",
        "描いた折線グラフにどのような問題点があるか考えてください。\n",
        "\n",
        "■挙手または指名で回答■"
      ]
    },
    {
      "cell_type": "markdown",
      "metadata": {
        "id": "r8FjYFCZ20wK"
      },
      "source": [
        "#### ヒント\n"
      ]
    },
    {
      "cell_type": "code",
      "metadata": {
        "id": "yYaaXsF529kG"
      },
      "source": [
        "df %>% \n",
        "  ggplot2::ggplot(ggplot2::aes(x = date, y = n)) + \n",
        "    ggplot2::geom_line() + \n",
        "    # 点を打つとデータの有無が分かりやすくなる\n",
        "    ggplot2::geom_point()"
      ],
      "execution_count": null,
      "outputs": []
    },
    {
      "cell_type": "markdown",
      "metadata": {
        "id": "J6spGNPoAjXr"
      },
      "source": [
        "### 【質問2】\n",
        "質問1の回答で挙げられた問題点を解決するための方法を考えてください（Rの関数名などを出す必要はありません）。  \n",
        "　  \n",
        "※ 「正しいグラフが描くためには、どうしたらいいか？」を考えてください。"
      ]
    },
    {
      "cell_type": "markdown",
      "metadata": {
        "id": "1dIFwQUJFOBR"
      },
      "source": [
        "### 【回答】\n",
        "■挙手または指名で回答■"
      ]
    },
    {
      "cell_type": "markdown",
      "metadata": {
        "id": "mktWSbA9CKdl"
      },
      "source": [
        "### 【回答例】"
      ]
    },
    {
      "cell_type": "markdown",
      "metadata": {
        "id": "jvsUh6Tg4ECJ"
      },
      "source": [
        "以下のコードを実行して確認してください。"
      ]
    },
    {
      "cell_type": "code",
      "metadata": {
        "id": "ncHYjxUXCEKO"
      },
      "source": [
        "# カレンダーを作り\n",
        "cal_data <- data.frame(date = seq.Date(from = lubridate::as_date(\"2020/1/15\"),\n",
        "                                       to = lubridate::as_date(\"2020/2/4\"),\n",
        "                                       by = \"day\"))\n",
        "cal_data %>% head()\n",
        "\n",
        "# カレンダーと対象のデータを結合して\n",
        "dplyr::left_join(cal_data, df, by = c(\"date\")) %>% \n",
        "# 欠損値をゼロに変換する\n",
        "  dplyr::mutate(n = dplyr::if_else(is.na(n), 0L, n))"
      ],
      "execution_count": null,
      "outputs": []
    },
    {
      "cell_type": "markdown",
      "metadata": {
        "id": "FqjNtuuADUNF"
      },
      "source": [
        "## 欠落の変換"
      ]
    },
    {
      "cell_type": "markdown",
      "metadata": {
        "id": "yyIH_0KzD5ES"
      },
      "source": [
        "`tidyr::complete`関数は暗黙的な欠落を明示的な欠落に変換する関数です。本セッションにおいて「明示的な欠落」とは、「ここ（この日）にはデータがありません」と分かる状態を意味します。  \n",
        "\n",
        "では、明示的な欠落に変換したデータでグラフを描き、暗示的な欠落のグラフと比較してください。"
      ]
    },
    {
      "cell_type": "code",
      "metadata": {
        "id": "06l0jjzaD_UU"
      },
      "source": [
        "df %>% \n",
        "  tidyr::complete(date = seq.Date(min(date), max(date), by = \"day\"),\n",
        "                  fill = list(n = 0L)) %>% print() %>%\n",
        "  ggplot2::ggplot(ggplot2::aes(x = date, y = n)) + \n",
        "    ggplot2::geom_line() + \n",
        "    ggplot2::geom_point()"
      ],
      "execution_count": null,
      "outputs": []
    },
    {
      "cell_type": "markdown",
      "metadata": {
        "id": "fukWXPkKEW3r"
      },
      "source": [
        "### 組み合わせデータの変換\n",
        "次に複数の変量（フィーチャー）の組み合わせを変換するにはどのようにすれば良いでしょうか？  \n",
        "以下のデータで考えてみましょう。"
      ]
    },
    {
      "cell_type": "code",
      "metadata": {
        "id": "mf031JzGEyaa"
      },
      "source": [
        "x <- data.frame(group = c(1:2, 1), item_id = c(1:2, 2),\n",
        "                item_name = c(\"a\", \"b\", \"b\"),\n",
        "                value1 = 1:3, value2 = 4:6)\n",
        "x"
      ],
      "execution_count": null,
      "outputs": []
    },
    {
      "cell_type": "markdown",
      "metadata": {
        "id": "sSoGLzL5E-3B"
      },
      "source": [
        "### 【質問】\n",
        "上記のデータは`group`と`item_id`の組み合わせ（4通りの組み合わせ）の一部が欠落しているデータです。このデータの（暗示的な）欠落を明示的な欠落に変換するための手順を考えｍ説明してください（Rの関数名などを出す必要はありません）。\n"
      ]
    },
    {
      "cell_type": "markdown",
      "metadata": {
        "id": "EZVqfc7BFBpq"
      },
      "source": [
        "### 【回答】\n",
        "■挙手または指名で回答■"
      ]
    },
    {
      "cell_type": "markdown",
      "metadata": {
        "id": "WV-89As2F0mb"
      },
      "source": [
        "### 【回答例】"
      ]
    },
    {
      "cell_type": "markdown",
      "metadata": {
        "id": "o_0y4SnG7VNs"
      },
      "source": [
        "以下のコードを実行して確認してください。"
      ]
    },
    {
      "cell_type": "code",
      "metadata": {
        "id": "E9T3iUtHF878"
      },
      "source": [
        "x %>%\n",
        "# 考えうる組み合わせを洗い出し\n",
        "   with(expand.grid(group = unique(group), item_id = unique(item_id))) %>% \n",
        "# 洗い出した組み合わせと対象のデータを結合する\n",
        "   dplyr::left_join(x)\n",
        "# 欠損値の返還は省略"
      ],
      "execution_count": null,
      "outputs": []
    },
    {
      "cell_type": "markdown",
      "metadata": {
        "id": "9KWKLpMuGKgk"
      },
      "source": [
        "### 【Tips】"
      ]
    },
    {
      "cell_type": "markdown",
      "metadata": {
        "id": "E4698JSjHw8L"
      },
      "source": [
        "データを良く見ると`item_id`と`item_name`は連動しています。`item_name`も合わせて変換するには`tidyr::nesting`関数を用いてパラメータを指定します。"
      ]
    },
    {
      "cell_type": "code",
      "metadata": {
        "id": "A46gD5ZhGsaU"
      },
      "source": [
        "x %>% \n",
        "  tidyr::complete(group, tidyr::nesting(item_id, item_name))"
      ],
      "execution_count": null,
      "outputs": []
    },
    {
      "cell_type": "markdown",
      "metadata": {
        "id": "NkoHLinsGVJj"
      },
      "source": [
        "## 欠損値の変換\n"
      ]
    },
    {
      "cell_type": "markdown",
      "metadata": {
        "id": "FLpRA22ZD6P1"
      },
      "source": [
        "### 欠損を一括で変換する\n",
        "欠損値（`NA`）が特定の値と等価（等値）である場合には、欠損値を一括して変換したいものです。  \n",
        "　  \n",
        "このような場合には`tidyr::replace_na`関数を使います。"
      ]
    },
    {
      "cell_type": "code",
      "metadata": {
        "id": "wLOY46gcI3X7"
      },
      "source": [
        "data.frame(x = c(1, 2, NA), y = c(\"a\", NA, \"b\")) %>% \n",
        "   print() %>% \n",
        "   tidyr::replace_na(list(x = 0, y = \"unknown\"))"
      ],
      "execution_count": null,
      "outputs": []
    },
    {
      "cell_type": "markdown",
      "metadata": {
        "id": "dtZVoJMNwYei"
      },
      "source": [
        "### 規則的な欠損を変換する\n",
        "Excelでセル結合されたデータを読み込むと規則的に欠損していることがあります。これも暗黙的な了解の元で欠損させているデータだと言えます。  \n",
        "　  \n",
        "例えば、総務省が公開している[「都道府県コード及び市町村コード」改正一覧表](https://www.soumu.go.jp/denshijiti/code.html)には規則的な欠損が存在しています。"
      ]
    },
    {
      "cell_type": "code",
      "metadata": {
        "id": "DeSwwtmz4iJw"
      },
      "source": [
        "# パスから直接読み込むことができないので、一旦、ダウンロードしてから読み込む\n",
        "file <- tempfile(fileext = \".xls\")\n",
        "\"https://www.soumu.go.jp/main_content/000562731.xls\" %>%\n",
        "  download.file(file)\n",
        "\n",
        "# 今回は列を最小限に絞っておく\n",
        "city_code <- file %>% \n",
        "  readxl::read_excel(col_names = FALSE, skip = 4) %>%\n",
        "  dplyr::select(5:7, 11:12, 14) %>%\n",
        "  dplyr::rename(`都道府県名` = ...5, `旧コード` = ...6, `旧市町村名` = ...7, `コード` = ...11, `市町村名` = ...12, `改正事由` = ...14)\n",
        "\n",
        "city_code %>% head(10)"
      ],
      "execution_count": null,
      "outputs": []
    },
    {
      "cell_type": "markdown",
      "metadata": {
        "id": "Chk2psFQ7vTt"
      },
      "source": [
        "このような規則的な欠損を変換するには`tdiyr::fill`関数を使います。"
      ]
    },
    {
      "cell_type": "code",
      "metadata": {
        "id": "wZgy9nhS9Eh2"
      },
      "source": [
        "city_code %>%\n",
        "  tidyr::fill(`都道府県名`, .direction = \"down\") %>% \n",
        "  head(10)"
      ],
      "execution_count": null,
      "outputs": []
    },
    {
      "cell_type": "markdown",
      "metadata": {
        "id": "URS6Jn0k9kw1"
      },
      "source": [
        "「同左」と「改正事由」の欠損値を変換すると改正後の市町村コード一覧が出来上がり。"
      ]
    },
    {
      "cell_type": "code",
      "metadata": {
        "id": "9TYsHXqF9qw0"
      },
      "source": [
        "city_code %>%\n",
        "  tidyr::fill(`都道府県名`) %>% \n",
        "  dplyr::mutate(`コード` = dplyr::if_else(`コード` == \"同左\", `旧コード`, `コード`),\n",
        "                `市町村名` = dplyr::if_else(`市町村名` == \"同左\", `旧市町村名`, `市町村名`)) %>%\n",
        "  dplyr::filter(`市町村名` != \"削除\") %>%\n",
        "  tidyr::replace_na(list(`改正事由` = \"新設\"))"
      ],
      "execution_count": null,
      "outputs": []
    },
    {
      "cell_type": "markdown",
      "metadata": {
        "id": "prle609eIPA5"
      },
      "source": [
        "## 欠損値の削除\n",
        "`NA`を含む行を削除する場合には`tdiyr::drop_na`関数を使います。パラメータの指定方法で結果が変わりますので注意してください。"
      ]
    },
    {
      "cell_type": "code",
      "metadata": {
        "id": "MzXZro8aJ_F7"
      },
      "source": [
        "airquality %>% head()"
      ],
      "execution_count": null,
      "outputs": []
    },
    {
      "cell_type": "code",
      "metadata": {
        "id": "i4cJXrIzJ1Qm"
      },
      "source": [
        "airquality %>% \n",
        "   tidyr::drop_na() %>%\n",
        "   head()"
      ],
      "execution_count": null,
      "outputs": []
    },
    {
      "cell_type": "code",
      "metadata": {
        "id": "NT6uM5vfKBet"
      },
      "source": [
        "airquality %>% \n",
        "   tidyr::drop_na(Ozone) %>%\n",
        "   head()"
      ],
      "execution_count": null,
      "outputs": []
    },
    {
      "cell_type": "markdown",
      "metadata": {
        "id": "bRLvbpb5KTkv"
      },
      "source": [
        "# その他の便利な関数\n",
        "その他の便利な関数についてはチュートリアルファイルを用意してあります。入手方法や具体的な使い方などは、来月のLT大会の時に紹介します。"
      ]
    },
    {
      "cell_type": "markdown",
      "metadata": {
        "id": "a89jtB8JKt5p"
      },
      "source": [
        "本資料のコードの一部は各関数のヘルプに記載されているサンプルコードを用いています。  \n",
        "\n",
        "---\n",
        "\n",
        "Enjoy!\n",
        "\n",
        "CC 4.0 BY-NC-SA, Sampo Suzuki"
      ]
    }
  ]
}